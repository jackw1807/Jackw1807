{
  "nbformat": 4,
  "nbformat_minor": 0,
  "metadata": {
    "colab": {
      "provenance": [],
      "authorship_tag": "ABX9TyPbZdFJWcHXfkxPtaeFuC9g",
      "include_colab_link": true
    },
    "kernelspec": {
      "name": "python3",
      "display_name": "Python 3"
    },
    "language_info": {
      "name": "python"
    }
  },
  "cells": [
    {
      "cell_type": "markdown",
      "metadata": {
        "id": "view-in-github",
        "colab_type": "text"
      },
      "source": [
        "<a href=\"https://colab.research.google.com/github/jackw1807/Jackw1807/blob/main/DataScienceEcosystem.ipynb\" target=\"_parent\"><img src=\"https://colab.research.google.com/assets/colab-badge.svg\" alt=\"Open In Colab\"/></a>"
      ]
    },
    {
      "cell_type": "markdown",
      "source": [
        "# Data Science Tools and Ecosystem\n"
      ],
      "metadata": {
        "id": "7GjOTq5LffbV"
      }
    },
    {
      "cell_type": "markdown",
      "source": [
        "In this notebook, Data science Tools and Ecosystem are summarized"
      ],
      "metadata": {
        "id": "akOcpeawg5sr"
      }
    },
    {
      "cell_type": "markdown",
      "source": [
        "Some of the popular languages that Data Scientists use are:\n",
        "\n",
        "\n",
        "1.   R\n",
        "2.   Python\n",
        "3.   C ++\n",
        "\n"
      ],
      "metadata": {
        "id": "J84_iGa9hSQd"
      }
    },
    {
      "cell_type": "markdown",
      "source": [
        "Some of the commonly used libraries used by Data Scientists include:\n",
        "1. NumPy\n",
        "2. Pandas\n",
        "3. Matplotlib"
      ],
      "metadata": {
        "id": "RLlTOk8zhx9J"
      }
    },
    {
      "cell_type": "markdown",
      "source": [
        "# Data Science Tools\n",
        "\n",
        "| Data Science Tools |\n",
        "|--------------------|\n",
        "| Jupyter Notebook  |\n",
        "| RStudio          |\n",
        "| Apache Zeppelin  |\n",
        "\n"
      ],
      "metadata": {
        "id": "yzAly3hkiDaN"
      }
    },
    {
      "cell_type": "markdown",
      "source": [
        "### Below are a few examples of evaluating arithmetic expressions in Python"
      ],
      "metadata": {
        "id": "pVK375M-iswH"
      }
    },
    {
      "cell_type": "code",
      "source": [
        "# This a simple arithmetic expression to mutiply then add integers\n",
        "(3*4)+5"
      ],
      "metadata": {
        "colab": {
          "base_uri": "https://localhost:8080/"
        },
        "id": "9d2kZAPTjuXc",
        "outputId": "144e6121-0d2f-4de1-df56-ea8543115cd1"
      },
      "execution_count": 9,
      "outputs": [
        {
          "output_type": "execute_result",
          "data": {
            "text/plain": [
              "17"
            ]
          },
          "metadata": {},
          "execution_count": 9
        }
      ]
    },
    {
      "cell_type": "code",
      "source": [
        "# This will convert 200 minutes to hours by diving by 60\n",
        "200/60"
      ],
      "metadata": {
        "colab": {
          "base_uri": "https://localhost:8080/"
        },
        "id": "cVgpYx2gkHeL",
        "outputId": "5a500f69-f6f3-4f72-f754-e3b60ce26fcb"
      },
      "execution_count": 10,
      "outputs": [
        {
          "output_type": "execute_result",
          "data": {
            "text/plain": [
              "3.3333333333333335"
            ]
          },
          "metadata": {},
          "execution_count": 10
        }
      ]
    },
    {
      "cell_type": "markdown",
      "source": [
        "# **Objectives**:\n",
        "\n",
        "\n",
        "*   List popular languages for Data Science\n",
        "*   Demonstrate time coversion\n",
        "*   Data science tools\n",
        "\n"
      ],
      "metadata": {
        "id": "l8-HIrN5kTYN"
      }
    },
    {
      "cell_type": "markdown",
      "source": [
        "## Author\n",
        "  ### Jack W"
      ],
      "metadata": {
        "id": "7DsVmi7Blsx9"
      }
    },
    {
      "cell_type": "code",
      "source": [],
      "metadata": {
        "id": "F-R-ZLtVmHW_"
      },
      "execution_count": null,
      "outputs": []
    }
  ]
}